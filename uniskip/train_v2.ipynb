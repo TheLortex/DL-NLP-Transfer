{
 "cells": [
  {
   "cell_type": "code",
   "execution_count": 2,
   "metadata": {},
   "outputs": [
    {
     "name": "stderr",
     "output_type": "stream",
     "text": [
      "[nltk_data] Downloading package punkt to /jet/nltk_data...\n",
      "[nltk_data]   Package punkt is already up-to-date!\n"
     ]
    }
   ],
   "source": [
    "import torch\n",
    "from torch import nn\n",
    "from torch.autograd import Variable\n",
    "\n",
    "from data_loader_multi_style import DataLoader\n",
    "from model import UniSkip\n",
    "from config import *\n",
    "from datetime import datetime, timedelta\n",
    "\n",
    "from tensorboardX import SummaryWriter\n",
    "import os\n",
    "\n",
    "import sys\n",
    "sys.path.append('..')\n",
    "import gather"
   ]
  },
  {
   "cell_type": "code",
   "execution_count": 2,
   "metadata": {},
   "outputs": [
    {
     "name": "stdout",
     "output_type": "stream",
     "text": [
      "STD: OK\n",
      "STD: OK\n",
      "STD: OK\n",
      "STD: OK\n",
      "STD: OK\n",
      "STD: OK\n",
      "Loading corpus at ./dataset/english/corpus.txt\n",
      "Datasets used:\n",
      "common\n",
      "austin\n",
      "dickens\n",
      "shakespeare\n",
      "wilde\n",
      "songs\n",
      "Making dictionary for these words\n",
      "Using cached dictionary at ./dataset/english/corpus.txt.pkl\n",
      "Making reverse dictionary\n",
      "[52828, 36346, 16418, 99807, 7090, 239838]\n",
      "[0.11679161314712586, 0.08035337267065641, 0.03629674991764807, 0.22065231569196622, 0.015674500969431408, 0.5302314476031721]\n",
      "6\n"
     ]
    }
   ],
   "source": [
    "language = \"english\"\n",
    "d = DataLoader((\"./dataset/\"+language+\"/corpus.txt\", gather.get_datasets(language)))\n",
    "n_categories = len(d.categories)\n",
    "print(n_categories)"
   ]
  },
  {
   "cell_type": "code",
   "execution_count": 3,
   "metadata": {},
   "outputs": [
    {
     "name": "stdout",
     "output_type": "stream",
     "text": [
      "USING CUDA\n"
     ]
    },
    {
     "name": "stderr",
     "output_type": "stream",
     "text": [
      "/jet/var/python/lib/python3.6/site-packages/torch/backends/cudnn/__init__.py:89: UserWarning: PyTorch was compiled without cuDNN support. To use cuDNN, rebuild PyTorch making sure the library is visible to the build system.\n",
      "  \"PyTorch was compiled without cuDNN support. To use cuDNN, rebuild \"\n"
     ]
    }
   ],
   "source": [
    "mod = UniSkip(n_categories)\n",
    "if USE_CUDA:\n",
    "    print(\"USING CUDA\")\n",
    "    mod.cuda(CUDA_DEVICE)"
   ]
  },
  {
   "cell_type": "code",
   "execution_count": 4,
   "metadata": {},
   "outputs": [],
   "source": [
    "lr = 3e-4\n",
    "optimizer = torch.optim.Adam(params=mod.parameters(), lr=lr)"
   ]
  },
  {
   "cell_type": "code",
   "execution_count": 5,
   "metadata": {},
   "outputs": [],
   "source": [
    "writer = SummaryWriter()"
   ]
  },
  {
   "cell_type": "code",
   "execution_count": 6,
   "metadata": {},
   "outputs": [],
   "source": [
    "loss_trail = []\n",
    "last_best_loss = None\n",
    "start_i = 0\n",
    "\n",
    "\n",
    "def save_model(i, loss, name):\n",
    "    save_loc = \"./saved_models/skip-{}-{}\".format(name, VOCAB_SIZE)\n",
    "    print(\"saving model at {}\".format(save_loc))\n",
    "    \n",
    "    torch.save(mod.state_dict(), save_loc)\n",
    "    torch.save((i, loss), save_loc+\".meta\")\n",
    "\n",
    "def debug(i, loss, prev, nex, prev_pred, next_pred):\n",
    "    global loss_trail\n",
    "    global last_best_loss\n",
    "    global current_time\n",
    "\n",
    "    this_loss = loss.item()\n",
    "    loss_trail.append(this_loss)\n",
    "    loss_trail = loss_trail[-20:]\n",
    "    \n",
    "    try:\n",
    "        trail_loss = sum(loss_trail)/len(loss_trail)\n",
    "        if (last_best_loss is None or last_best_loss > trail_loss) and len(loss_trail) > 10:\n",
    "            print(\"Loss improved from {} to {}\".format(last_best_loss, trail_loss))\n",
    "            save_model(i, trail_loss, \"best\")\n",
    "            \n",
    "            last_best_loss = trail_loss\n",
    "    except Exception as e:\n",
    "       print(\"Couldn't save model because {}\".format(e))\n",
    "    \n",
    "def get_natural_sentence(res):\n",
    "    sent = [x for x in res if x != 0]\n",
    "    sent = d.convert_indices_to_sentences(sent)\n",
    "\n",
    "    from sacremoses import MosesDetokenizer\n",
    "    detokenizer = MosesDetokenizer()\n",
    "\n",
    "    return detokenizer.detokenize(sent.split(\" \"), return_str=True)"
   ]
  },
  {
   "cell_type": "code",
   "execution_count": 7,
   "metadata": {},
   "outputs": [],
   "source": [
    "reload_last_checkpoint = False\n",
    "save_loc = \"./saved_models/skip-best-{}\".format(VOCAB_SIZE)\n",
    "tally = [0 for _ in range(n_categories)]\n",
    "    \n",
    "if reload_last_checkpoint and os.path.exists(save_loc):\n",
    "    print(\"Loading last checkpoint: \"+save_loc)\n",
    "    mod.load_state_dict(torch.load(save_loc))\n",
    "    \n",
    "    start_i, last_best_loss = torch.load(save_loc+\".meta\")\n",
    "    print(\"At iter \"+str(start_i)+\" | Loss: \" + str(last_best_loss))"
   ]
  },
  {
   "cell_type": "code",
   "execution_count": null,
   "metadata": {
    "scrolled": true
   },
   "outputs": [
    {
     "name": "stdout",
     "output_type": "stream",
     "text": [
      "Starting training...\n",
      "883.451171875\n"
     ]
    },
    {
     "name": "stderr",
     "output_type": "stream",
     "text": [
      "/jet/var/python/lib/python3.6/site-packages/torch/nn/functional.py:995: UserWarning: nn.functional.tanh is deprecated. Use torch.tanh instead.\n",
      "  warnings.warn(\"nn.functional.tanh is deprecated. Use torch.tanh instead.\")\n",
      "/jet/var/python/lib/python3.6/site-packages/torch/backends/cudnn/__init__.py:89: UserWarning: PyTorch was compiled without cuDNN support. To use cuDNN, rebuild PyTorch making sure the library is visible to the build system.\n",
      "  \"PyTorch was compiled without cuDNN support. To use cuDNN, rebuild \"\n"
     ]
    },
    {
     "name": "stdout",
     "output_type": "stream",
     "text": [
      "4860\n"
     ]
    }
   ],
   "source": [
    "print(\"Starting training...\")\n",
    "\n",
    "batch_size = 64*8\n",
    "\n",
    "n_batches_per_epoch = sum(d.n_sentences)/batch_size\n",
    "print(n_batches_per_epoch)\n",
    "\n",
    "\n",
    "# a million iterations\n",
    "for i in range(start_i, 1000000):\n",
    "    sentences, category, lengths = d.fetch_batch(32 * 8)\n",
    "    cat_tensor = torch.Tensor([1 if c == category else 0 for c in range(n_categories)]).cuda(CUDA_DEVICE)\n",
    "\n",
    "    loss, prev, nex, prev_pred, next_pred  = mod(sentences, lengths, cat_tensor, cat_tensor)\n",
    "    writer.add_scalar('loss', loss, i)\n",
    "    writer.add_scalar('losses/'+d.categories[category], loss, i)\n",
    "    tally[category] += 1\n",
    "    writer.add_scalar('losses_std/'+d.categories[category], loss, tally[category])\n",
    "    \n",
    "    if i % 30 == 0:\n",
    "        print(i)\n",
    "        str_prev = get_natural_sentence(prev)\n",
    "        str_prev_pred = get_natural_sentence(prev_pred)\n",
    "        str_next = get_natural_sentence(nex)\n",
    "        str_next_pred = get_natural_sentence(next_pred)\n",
    "        writer.add_text('Prev', str_prev + ' | ' + str_prev_pred, i)\n",
    "        writer.add_text('Next', str_next + ' | ' + str_next_pred, i)\n",
    "        debug(i, loss, prev, nex, prev_pred, next_pred)\n",
    "    \n",
    "    if i % (int(3*n_batches_per_epoch)) == 0:\n",
    "        save_model(i, loss, \"checkpoint-{}\".format(i // (3*n_batches_per_epoch)))\n",
    "\n",
    "    optimizer.zero_grad()\n",
    "    loss.backward()\n",
    "    optimizer.step()"
   ]
  },
  {
   "cell_type": "code",
   "execution_count": 15,
   "metadata": {},
   "outputs": [
    {
     "name": "stdout",
     "output_type": "stream",
     "text": [
      "126134\n",
      "saving model at ./saved_models/skip-last\n"
     ]
    }
   ],
   "source": [
    "print(i)\n",
    "save_loc = \"./saved_models/skip-last\"\n",
    "print(\"saving model at {}\".format(save_loc))\n",
    "trail_loss = sum(loss_trail)/len(loss_trail)\n",
    "torch.save(mod.state_dict(), save_loc)\n",
    "torch.save((i, trail_loss), save_loc+\".meta\")"
   ]
  },
  {
   "cell_type": "code",
   "execution_count": null,
   "metadata": {},
   "outputs": [],
   "source": [
    "print(d.fetch_batch(1 * 8))"
   ]
  },
  {
   "cell_type": "code",
   "execution_count": 11,
   "metadata": {},
   "outputs": [
    {
     "name": "stdout",
     "output_type": "stream",
     "text": [
      "4840\n"
     ]
    }
   ],
   "source": [
    "print(start_i)"
   ]
  },
  {
   "cell_type": "code",
   "execution_count": 10,
   "metadata": {},
   "outputs": [],
   "source": [
    "start_i = i"
   ]
  },
  {
   "cell_type": "code",
   "execution_count": 14,
   "metadata": {},
   "outputs": [
    {
     "name": "stdout",
     "output_type": "stream",
     "text": [
      "[14912, 10079, 4579, 27614, 2016, 66936]\n"
     ]
    }
   ],
   "source": [
    "print(tally)"
   ]
  },
  {
   "cell_type": "code",
   "execution_count": 13,
   "metadata": {},
   "outputs": [
    {
     "name": "stdout",
     "output_type": "stream",
     "text": [
      "Wed Jan 16 10:41:37 2019       \r\n",
      "+-----------------------------------------------------------------------------+\r\n",
      "| NVIDIA-SMI 396.51                 Driver Version: 396.51                    |\r\n",
      "|-------------------------------+----------------------+----------------------+\r\n",
      "| GPU  Name        Persistence-M| Bus-Id        Disp.A | Volatile Uncorr. ECC |\r\n",
      "| Fan  Temp  Perf  Pwr:Usage/Cap|         Memory-Usage | GPU-Util  Compute M. |\r\n",
      "|===============================+======================+======================|\r\n",
      "|   0  Tesla K80           Off  | 00000000:00:04.0 Off |                    0 |\r\n",
      "| N/A   49C    P0   148W / 149W |   1324MiB / 11441MiB |     78%      Default |\r\n",
      "+-------------------------------+----------------------+----------------------+\r\n",
      "                                                                               \r\n",
      "+-----------------------------------------------------------------------------+\r\n",
      "| Processes:                                                       GPU Memory |\r\n",
      "|  GPU       PID   Type   Process name                             Usage      |\r\n",
      "|=============================================================================|\r\n",
      "|    0      8114      C   /jet/bin/python                             1313MiB |\r\n",
      "+-----------------------------------------------------------------------------+\r\n"
     ]
    }
   ],
   "source": [
    "!nvidia-smi"
   ]
  },
  {
   "cell_type": "code",
   "execution_count": null,
   "metadata": {},
   "outputs": [],
   "source": []
  }
 ],
 "metadata": {
  "kernelspec": {
   "display_name": "Python 3",
   "language": "python",
   "name": "python3"
  },
  "language_info": {
   "codemirror_mode": {
    "name": "ipython",
    "version": 3
   },
   "file_extension": ".py",
   "mimetype": "text/x-python",
   "name": "python",
   "nbconvert_exporter": "python",
   "pygments_lexer": "ipython3",
   "version": "3.6.3"
  }
 },
 "nbformat": 4,
 "nbformat_minor": 2
}
