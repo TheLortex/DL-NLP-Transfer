{
 "cells": [
  {
   "cell_type": "code",
   "execution_count": 4,
   "metadata": {},
   "outputs": [
    {
     "name": "stderr",
     "output_type": "stream",
     "text": [
      "[nltk_data] Downloading package punkt to /jet/nltk_data...\n",
      "[nltk_data]   Package punkt is already up-to-date!\n"
     ]
    }
   ],
   "source": [
    "import os \n",
    "from data_loader_multi_style import DataLoader\n",
    "\n",
    "import sys\n",
    "sys.path.append('..')\n",
    "import gather"
   ]
  },
  {
   "cell_type": "code",
   "execution_count": 5,
   "metadata": {},
   "outputs": [
    {
     "name": "stdout",
     "output_type": "stream",
     "text": [
      "STD: OK\n",
      "STD: OK\n",
      "STD: OK\n",
      "STD: OK\n",
      "STD: OK\n",
      "STD: OK\n",
      "Loading corpus at ./dataset/english/corpus.txt\n",
      "Datasets used:\n",
      "common\n",
      "austin\n",
      "dickens\n",
      "shakespeare\n",
      "wilde\n",
      "songs\n",
      "Making dictionary for these words\n",
      "Using cached dictionary at ./dataset/english/corpus.txt.pkl\n",
      "Making reverse dictionary\n",
      "[52828, 36346, 16418, 99807, 7090, 239838]\n",
      "[0.11679161314712586, 0.08035337267065641, 0.03629674991764807, 0.22065231569196622, 0.015674500969431408, 0.5302314476031721]\n",
      "6\n",
      "91265 words in the dictionnary!\n"
     ]
    }
   ],
   "source": [
    "language = \"english\"\n",
    "d = DataLoader((\"./dataset/\"+language+\"/corpus.txt\", gather.get_datasets(language)))\n",
    "n_categories = len(d.categories)\n",
    "print(n_categories)\n",
    "print(str(len(d.word_dict.items())) + \" words in the dictionnary!\")"
   ]
  },
  {
   "cell_type": "code",
   "execution_count": 12,
   "metadata": {},
   "outputs": [
    {
     "name": "stdout",
     "output_type": "stream",
     "text": [
      "Number of sentences:  452327\n"
     ]
    },
    {
     "ename": "KeyboardInterrupt",
     "evalue": "",
     "output_type": "error",
     "traceback": [
      "\u001b[0;31m---------------------------------------------------------------------------\u001b[0m",
      "\u001b[0;31mKeyboardInterrupt\u001b[0m                         Traceback (most recent call last)",
      "\u001b[0;32m<ipython-input-12-3846dffd7104>\u001b[0m in \u001b[0;36m<module>\u001b[0;34m()\u001b[0m\n\u001b[1;32m     23\u001b[0m                 \u001b[0;32mif\u001b[0m \u001b[0mval\u001b[0m \u001b[0;34m==\u001b[0m \u001b[0munk\u001b[0m\u001b[0;34m:\u001b[0m\u001b[0;34m\u001b[0m\u001b[0m\n\u001b[1;32m     24\u001b[0m                     \u001b[0mcount_unk\u001b[0m \u001b[0;34m+=\u001b[0m \u001b[0;36m1\u001b[0m\u001b[0;34m\u001b[0m\u001b[0m\n\u001b[0;32m---> 25\u001b[0;31m                 \u001b[0;32melif\u001b[0m \u001b[0mval\u001b[0m \u001b[0;34m!=\u001b[0m \u001b[0meos\u001b[0m\u001b[0;34m:\u001b[0m\u001b[0;34m\u001b[0m\u001b[0m\n\u001b[0m\u001b[1;32m     26\u001b[0m                     \u001b[0mcount_nonunk\u001b[0m \u001b[0;34m+=\u001b[0m \u001b[0;36m1\u001b[0m\u001b[0;34m\u001b[0m\u001b[0m\n\u001b[1;32m     27\u001b[0m \u001b[0;34m\u001b[0m\u001b[0m\n",
      "\u001b[0;31mKeyboardInterrupt\u001b[0m: "
     ]
    }
   ],
   "source": [
    "eos = 0\n",
    "unk = 1\n",
    "\n",
    "print(\"Number of sentences: \", sum([len(i) for _,i in d.sentences.items()]))\n",
    "\n",
    "n_empty = 0\n",
    "n_single = 0\n",
    "n_full_unk = 0\n",
    "\n",
    "for _, dsent in d.sentences.items():\n",
    "    for sent in dsent:\n",
    "        values = d.convert_sentence_to_indices(sent, tensor=False)\n",
    "        if values[0] == eos:\n",
    "            n_empty += 1\n",
    "        elif values[1] == eos:\n",
    "            n_single += 1\n",
    "            if values[0] == unk:\n",
    "                n_full_unk += 1\n",
    "        else:\n",
    "            count_unk = 0\n",
    "            count_nonunk = 0\n",
    "            for val in values:\n",
    "                if val == unk:\n",
    "                    count_unk += 1\n",
    "                elif val != eos:\n",
    "                    count_nonunk += 1\n",
    "\n",
    "            if count_unk >= count_nonunk:\n",
    "                n_full_unk += 1\n",
    "            \n",
    "# count empty sentences, sentences with only one word and sentences with at least 50% of unknown words.            \n",
    "print(\"Useless sentences {}|{}|{}\".format(n_empty, n_single, n_full_unk))"
   ]
  },
  {
   "cell_type": "code",
   "execution_count": 4,
   "metadata": {},
   "outputs": [
    {
     "name": "stdout",
     "output_type": "stream",
     "text": [
      "2.626\n"
     ]
    }
   ],
   "source": [
    "print(100*(n_single + n_full_unk)/450000.)"
   ]
  },
  {
   "cell_type": "markdown",
   "metadata": {},
   "source": [
    "## It might be a good idea to remove these sentences. They make 2.6% of the dataset."
   ]
  },
  {
   "cell_type": "code",
   "execution_count": 11,
   "metadata": {},
   "outputs": [],
   "source": [
    "from model import Encoder\n",
    "import torch"
   ]
  },
  {
   "cell_type": "code",
   "execution_count": 32,
   "metadata": {},
   "outputs": [
    {
     "name": "stdout",
     "output_type": "stream",
     "text": [
      "torch.Size([3, 2, 4])\n",
      "torch.Size([3, 2, 2])\n",
      "torch.Size([3, 2, 6])\n"
     ]
    }
   ],
   "source": [
    "t = torch.Tensor([0,0,0,3])\n",
    "t2 = torch.Tensor([[[1,2],[0,1]],[[1,2],[0,1]],[[1,2],[0,1]]])\n",
    "t = t.expand((3,2,-1))\n",
    "print(t.shape)\n",
    "print(t2.shape)\n",
    "print(torch.cat((t,t2),2).shape)"
   ]
  },
  {
   "cell_type": "code",
   "execution_count": null,
   "metadata": {},
   "outputs": [],
   "source": []
  }
 ],
 "metadata": {
  "kernelspec": {
   "display_name": "Python 3",
   "language": "python",
   "name": "python3"
  },
  "language_info": {
   "codemirror_mode": {
    "name": "ipython",
    "version": 3
   },
   "file_extension": ".py",
   "mimetype": "text/x-python",
   "name": "python",
   "nbconvert_exporter": "python",
   "pygments_lexer": "ipython3",
   "version": "3.6.3"
  }
 },
 "nbformat": 4,
 "nbformat_minor": 2
}
