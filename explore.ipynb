{
 "cells": [
  {
   "cell_type": "code",
   "execution_count": 1,
   "metadata": {},
   "outputs": [],
   "source": [
    "import os \n",
    "from data_loader import DataLoader"
   ]
  },
  {
   "cell_type": "code",
   "execution_count": 2,
   "metadata": {},
   "outputs": [
    {
     "name": "stdout",
     "output_type": "stream",
     "text": [
      "Loading text file at ./dataset/english/corpus.txt\n",
      "Making dictionary for these words\n",
      "Using cached dictionary at ./dataset/english/corpus.txt.pkl\n",
      "Making reverse dictionary\n"
     ]
    }
   ],
   "source": [
    "language = \"english\"\n",
    "d = DataLoader(\"./dataset/\"+language+\"/corpus.txt\")"
   ]
  },
  {
   "cell_type": "code",
   "execution_count": 7,
   "metadata": {},
   "outputs": [
    {
     "name": "stdout",
     "output_type": "stream",
     "text": [
      "Number of sentences:  212489\n",
      "Useless sentences 0|2258|2244\n"
     ]
    }
   ],
   "source": [
    "eos = 0\n",
    "unk = 1\n",
    "\n",
    "print(\"Number of sentences: \", len(d.sentences))\n",
    "\n",
    "n_empty = 0\n",
    "n_single = 0\n",
    "n_full_unk = 0\n",
    "\n",
    "for sent in d.sentences:\n",
    "    values = d.convert_sentence_to_indices(sent, tensor=False)\n",
    "    if values[0] == eos:\n",
    "        n_empty += 1\n",
    "    elif values[1] == eos:\n",
    "        n_single += 1\n",
    "        if values[0] == unk:\n",
    "            n_full_unk += 1\n",
    "    else:\n",
    "        count_unk = 0\n",
    "        count_nonunk = 0\n",
    "        for val in values:\n",
    "            if val == unk:\n",
    "                count_unk += 1\n",
    "            elif val != eos:\n",
    "                count_nonunk += 1\n",
    "        \n",
    "        if count_unk >= count_nonunk:\n",
    "            n_full_unk += 1\n",
    "            \n",
    "# count empty sentences, sentences with only one word and sentences with at least 50% of unknown words.            \n",
    "print(\"Useless sentences {}|{}|{}\".format(n_empty, n_single, n_full_unk))"
   ]
  },
  {
   "cell_type": "markdown",
   "metadata": {},
   "source": [
    "## It might be a good idea to remove these sentences. They make 2% of the dataset."
   ]
  },
  {
   "cell_type": "code",
   "execution_count": null,
   "metadata": {},
   "outputs": [],
   "source": []
  }
 ],
 "metadata": {
  "kernelspec": {
   "display_name": "Python 3",
   "language": "python",
   "name": "python3"
  },
  "language_info": {
   "codemirror_mode": {
    "name": "ipython",
    "version": 3
   },
   "file_extension": ".py",
   "mimetype": "text/x-python",
   "name": "python",
   "nbconvert_exporter": "python",
   "pygments_lexer": "ipython3",
   "version": "3.6.3"
  }
 },
 "nbformat": 4,
 "nbformat_minor": 2
}
